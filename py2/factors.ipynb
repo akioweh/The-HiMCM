{
 "cells": [
  {
   "cell_type": "code",
   "execution_count": 2,
   "metadata": {
    "collapsed": true
   },
   "outputs": [],
   "source": [
    "import math\n",
    "\n",
    "import pandas as pd\n",
    "import scipy as sp\n",
    "import matplotlib.pyplot as plt\n",
    "import numpy as np\n",
    "from scipy.optimize import curve_fit\n",
    "\n",
    "from sklearn.linear_model import LinearRegression\n",
    "from sklearn import metrics\n"
   ]
  },
  {
   "cell_type": "code",
   "execution_count": 3,
   "outputs": [],
   "source": [
    "def line_func(x, a, b):\n",
    "    return a * x + b\n",
    "\n",
    "\n",
    "def exp_func(x, a, b, c):\n",
    "    return np.exp((x + a) * b) + c\n",
    "\n",
    "\n",
    "def sigm_func(x, slope, exp, x_ctr, y_min, y_max):\n",
    "    return ((x - x_ctr) / (\n",
    "            slope**-exp + (2 * abs(x - x_ctr) / (y_max - y_min))**exp\n",
    "    ) ** (1 / exp)) + (y_max - y_min) / 2 + y_min\n",
    "\n",
    "\n",
    "def sigm_func_lim(y_max=565):\n",
    "    def wrap(x, slope, exp, x_ctr, y_min):\n",
    "        return sigm_func(x, slope, exp, x_ctr, y_min, y_max)\n",
    "    return wrap\n",
    "\n",
    "\n",
    "def poly3_func(x, a, b, c, d):\n",
    "    return a * x^3 + b * x^2 + c * x + d\n",
    "\n",
    "\n",
    "def poly4_func(x, a, b, c, d, e):\n",
    "    return a * x^4 + b * x^3 + c * x^2 + d * x + e\n",
    "\n",
    "\n",
    "def ploy5_func(x, a, b, c, d, e, f):\n",
    "    return a * x^5 + b * x^4 + c * x^3 + d * x^2 + e * x + f\n",
    "\n",
    "\n",
    "funcs = [line_func, exp_func, poly3_func, poly5_func]"
   ],
   "metadata": {
    "collapsed": false
   }
  },
  {
   "cell_type": "code",
   "execution_count": null,
   "outputs": [],
   "source": [
    "def regress(df, func, p0=None):\n",
    "    pmt, _ = curve_fit(func, df.iloc[:, 0], df.iloc[:, 1], p0=p0, maxfev=69420)\n",
    "    return pmt\n",
    "\n",
    "\n",
    "def r2(func, pmt, df):\n",
    "    pred = func(df.iloc[:, 0], *pmt)\n",
    "    return\n",
    "\n",
    "\n",
    "def regress_all(df, lim=500):\n",
    "    pmts = []\n",
    "    for f in funcs + [sigm_func_lim(lim)]:\n",
    "        pmts.append(regress(f, df))\n"
   ],
   "metadata": {
    "collapsed": false
   }
  },
  {
   "cell_type": "code",
   "execution_count": 3,
   "outputs": [],
   "source": [
    "COAL = pd.read_csv('coal.csv')\n",
    "OIL = pd.read_csv('oil.csv')\n",
    "CON = pd.read_csv('consumption.csv')\n"
   ],
   "metadata": {
    "collapsed": false
   }
  },
  {
   "cell_type": "code",
   "execution_count": null,
   "outputs": [],
   "source": [],
   "metadata": {
    "collapsed": false
   }
  }
 ],
 "metadata": {
  "kernelspec": {
   "display_name": "Python 3",
   "language": "python",
   "name": "python3"
  },
  "language_info": {
   "codemirror_mode": {
    "name": "ipython",
    "version": 2
   },
   "file_extension": ".py",
   "mimetype": "text/x-python",
   "name": "python",
   "nbconvert_exporter": "python",
   "pygments_lexer": "ipython2",
   "version": "2.7.6"
  }
 },
 "nbformat": 4,
 "nbformat_minor": 0
}
